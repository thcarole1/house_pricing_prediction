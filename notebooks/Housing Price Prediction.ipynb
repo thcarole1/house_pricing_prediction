{
 "cells": [
  {
   "cell_type": "markdown",
   "id": "7d18bc87",
   "metadata": {},
   "source": [
    "# Housing price prediction : The big picture\n",
    "\n",
    "\n"
   ]
  },
  {
   "cell_type": "markdown",
   "id": "3a74a765",
   "metadata": {},
   "source": [
    "Welcome to the Machine Learning Housing Corporation!  \n",
    "\n",
    "Our task is to build a model using California census data to predict housing prices.  \n",
    "\n",
    "The data includes details like population, median income, and housing prices for small areas called block groups (or \"districts\"), which usually have 600–3,000 people.  \n",
    "\n",
    "Our model will use this data to predict the median housing price in a district based on other metrics.\n"
   ]
  },
  {
   "cell_type": "markdown",
   "id": "72eedbdc",
   "metadata": {},
   "source": [
    "## Framing the problem\n"
   ]
  },
  {
   "cell_type": "markdown",
   "id": "afa7532b",
   "metadata": {},
   "source": [
    "### What is the business objective is?\n",
    "\n"
   ]
  },
  {
   "cell_type": "markdown",
   "id": "1df64236",
   "metadata": {},
   "source": [
    "The goal isn’t just to build a model but to understand how the company plans to use it and benefit from it.  \n",
    "\n",
    "\n",
    "Knowing the objective helps **define the problem**, **choose algorithms**, **select a performance measure**, and **decide how much effort to spend improving the model**.  \n",
    "\n",
    "\n",
    "In our current project, our model’s predictions (median housing prices) will be used by another system, alongside other data, to decide if investing in an area is worthwhile. <br>\n",
    "\n",
    "**This decision is crucial as it impacts revenue.**\n"
   ]
  },
  {
   "cell_type": "markdown",
   "id": "fa4eaf4b",
   "metadata": {},
   "source": [
    "### What is the current solution (if it exists) ?\n"
   ]
  },
  {
   "cell_type": "markdown",
   "id": "5ca6951d",
   "metadata": {},
   "source": [
    "Understanding it can provide a **performance baseline** and **ideas for solving the problem**.  \n",
    "\n",
    "In our corporation, housing prices are **<span style=\"font-family:Comic Sans MS; color:red\">currently estimated manually</span>** by experts who gather district data and use complex rules when the median price isn’t available. This process is **<span style=\"font-family:Comic Sans MS; color:red\">expensive</span>**, **<span style=\"font-family:Comic Sans MS; color:red\">slow</span>**, and **<span style=\"font-family:Comic Sans MS; color:red\">often inaccurate—estimates</span> are <span style=\"font-family:Comic Sans MS; color:red\"> frequently off by over 30%</span>**.  \n",
    "\n",
    "\n",
    "The company wants <ins>to train a model to predict median housing prices using district data</ins>. <br>\n",
    "\n",
    "Census data, which includes prices and other district information for thousands of areas, is ideal for this task.   \n"
   ]
  },
  {
   "cell_type": "markdown",
   "id": "97e5738b",
   "metadata": {},
   "source": [
    "### What is the type of learning ?\n",
    "\n"
   ]
  },
  {
   "cell_type": "markdown",
   "id": "b262ddd1",
   "metadata": {},
   "source": [
    "With the gathered information, we are ready to design our system.\n",
    "\n",
    "\n",
    "- This is a **supervised learning task** because the model can train on labeled examples (districts with their median housing prices).  \n",
    "\n",
    "- It’s a **regression task** since the goal is to predict a value. Specifically, it’s a **multiple regression** problem because the prediction uses several features (like population and median income).  \n",
    "\n",
    "- It’s **univariate regression** because only one value (median price) is predicted for each district. If multiple values were predicted, it would be multivariate regression.  \n",
    "- Since the data is not continuously flowing, doesn’t require rapid updates, and fits in memory, **batch learning** is sufficient."
   ]
  },
  {
   "cell_type": "markdown",
   "id": "a1fd1b45",
   "metadata": {},
   "source": [
    "## Selecting a performance measure\n"
   ]
  },
  {
   "cell_type": "markdown",
   "id": "0089a506",
   "metadata": {},
   "source": [
    "The next step is to choose a performance measure. <br>\n",
    "\n",
    "For regression problems, a common choice is the **root mean square error (RMSE)**.<br> \n",
    "\n",
    "It shows how much error the model typically makes, giving more weight to larger errors. \n"
   ]
  },
  {
   "cell_type": "markdown",
   "id": "947f07e4",
   "metadata": {},
   "source": [
    " $$RMSE  = \\sqrt{\\frac{1}{n}\\sum_{i=1}^n (y_i - \\hat{y}_i)^2 }$$\n",
    " "
   ]
  },
  {
   "cell_type": "code",
   "execution_count": null,
   "id": "61041665",
   "metadata": {},
   "outputs": [],
   "source": []
  },
  {
   "cell_type": "code",
   "execution_count": null,
   "id": "5e49c8b6",
   "metadata": {},
   "outputs": [],
   "source": []
  },
  {
   "cell_type": "code",
   "execution_count": null,
   "id": "404f8daf",
   "metadata": {},
   "outputs": [],
   "source": []
  },
  {
   "cell_type": "code",
   "execution_count": null,
   "id": "84160b61",
   "metadata": {},
   "outputs": [],
   "source": []
  },
  {
   "cell_type": "code",
   "execution_count": null,
   "id": "2ac0698c",
   "metadata": {},
   "outputs": [],
   "source": []
  }
 ],
 "metadata": {
  "kernelspec": {
   "display_name": "Python 3 (ipykernel)",
   "language": "python",
   "name": "python3"
  },
  "language_info": {
   "codemirror_mode": {
    "name": "ipython",
    "version": 3
   },
   "file_extension": ".py",
   "mimetype": "text/x-python",
   "name": "python",
   "nbconvert_exporter": "python",
   "pygments_lexer": "ipython3",
   "version": "3.10.6"
  },
  "toc": {
   "base_numbering": 1,
   "nav_menu": {},
   "number_sections": true,
   "sideBar": true,
   "skip_h1_title": false,
   "title_cell": "Table of Contents",
   "title_sidebar": "Contents",
   "toc_cell": false,
   "toc_position": {
    "height": "calc(100% - 180px)",
    "left": "10px",
    "top": "150px",
    "width": "384px"
   },
   "toc_section_display": true,
   "toc_window_display": true
  },
  "varInspector": {
   "cols": {
    "lenName": 16,
    "lenType": 16,
    "lenVar": 40
   },
   "kernels_config": {
    "python": {
     "delete_cmd_postfix": "",
     "delete_cmd_prefix": "del ",
     "library": "var_list.py",
     "varRefreshCmd": "print(var_dic_list())"
    },
    "r": {
     "delete_cmd_postfix": ") ",
     "delete_cmd_prefix": "rm(",
     "library": "var_list.r",
     "varRefreshCmd": "cat(var_dic_list()) "
    }
   },
   "types_to_exclude": [
    "module",
    "function",
    "builtin_function_or_method",
    "instance",
    "_Feature"
   ],
   "window_display": false
  }
 },
 "nbformat": 4,
 "nbformat_minor": 5
}
